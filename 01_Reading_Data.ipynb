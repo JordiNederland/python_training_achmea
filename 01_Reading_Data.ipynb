{
 "cells": [
  {
   "cell_type": "markdown",
   "id": "adaf2f08-712e-4f5d-bd45-3fc9b754ade1",
   "metadata": {},
   "source": [
    "# Getting data into a dataframe"
   ]
  },
  {
   "cell_type": "markdown",
   "id": "8ea18961-bc6f-4b54-9623-eedfd8210601",
   "metadata": {},
   "source": [
    "## There are a couple of common ways to get your data:\n",
    "    - read from a database\n",
    "    - read data from csv or text files\n",
    "    - from an API\n",
    "    - from JSON files"
   ]
  },
  {
   "cell_type": "markdown",
   "id": "8ec3bc65-abc5-4d31-861e-a6dd1ae6396e",
   "metadata": {},
   "source": [
    "## Let's look at a real-life example of connecting to an Azure SQL Database"
   ]
  },
  {
   "cell_type": "code",
   "execution_count": null,
   "id": "da7c9b1a-194e-4ca6-93a3-e41c9abdf7cb",
   "metadata": {},
   "outputs": [],
   "source": [
    "import pandas as pd\n",
    "import pyodbc    \n",
    "\n",
    "\n",
    "driver = \"{ODBC Driver 17 for SQL Server}\"\n",
    "server = \"example.database.windows.net\"\n",
    "port = 1433\n",
    "database = \"my_database\"\n",
    "username = \"my_username\"\n",
    "password = \"my_password\" \n",
    "\n",
    "connection_string = f\"DRIVER={driver};SERVER=tcp:{server};PORT={port};DATABASE={database};UID={username};PWD={password}\"\n",
    "\n",
    "connection = pyodbc.connect(connection_string)\n",
    "\n",
    "query = \"\"\"\n",
    "  SELECT *\n",
    "  FROM my_table\n",
    "\"\"\"\n",
    "\n",
    "df = pd.read_sql(query, connection)"
   ]
  },
  {
   "cell_type": "markdown",
   "id": "63079070-6f8e-43a2-b9b1-6bf2fbb231dd",
   "metadata": {},
   "source": [
    "## Another realistic way of getting data is reading csv files from a certain location.\n",
    "\n",
    "## The goal of this exercise is to get a list of all csv files in a certain directory"
   ]
  },
  {
   "cell_type": "markdown",
   "id": "3b5e067a-6f4c-4225-b7d6-231beb22520c",
   "metadata": {},
   "source": [
    "#### 1. Find out in which directory you currently are working using `import os` and `os.getcwd()`"
   ]
  },
  {
   "cell_type": "markdown",
   "id": "42ae7d74-8ebe-47f0-a5e7-8900e27f0b2b",
   "metadata": {},
   "source": [
    "#### 2. Change your working directory to where your csv files are located with `os.chdir()`\n"
   ]
  },
  {
   "cell_type": "markdown",
   "id": "d2920a6d-24f2-43eb-8f61-9998c68bbb57",
   "metadata": {},
   "source": [
    "#### 3. Get a list of the contents of your current directory using `os.listdir()`. Write your list to variable `file_names`"
   ]
  },
  {
   "cell_type": "markdown",
   "id": "233e9276-1d63-41bb-9361-cc31b33ba0ad",
   "metadata": {},
   "source": [
    "#### 4. Use a for loop that prints out all the file_names that you find"
   ]
  },
  {
   "cell_type": "markdown",
   "id": "f69768df-a986-41c5-9e80-9648153bd501",
   "metadata": {},
   "source": [
    "#### 5. Create a new empty list called `csv_files`. Use a for loop over the file_names that you find earlier and only add the csv file names to variable `csv_files`"
   ]
  },
  {
   "cell_type": "markdown",
   "id": "71e28fea-5223-4d0c-b655-bad509e2c8f2",
   "metadata": {},
   "source": [
    "#### 6. Read the first csv file from your list csv_files into a dataframe with variable name `df`"
   ]
  },
  {
   "cell_type": "code",
   "execution_count": null,
   "id": "73ffdf13-cc4a-4b64-a8d2-35c397ad7806",
   "metadata": {},
   "outputs": [],
   "source": []
  }
 ],
 "metadata": {
  "kernelspec": {
   "display_name": "python39",
   "language": "python",
   "name": "python39"
  },
  "language_info": {
   "codemirror_mode": {
    "name": "ipython",
    "version": 3
   },
   "file_extension": ".py",
   "mimetype": "text/x-python",
   "name": "python",
   "nbconvert_exporter": "python",
   "pygments_lexer": "ipython3",
   "version": "3.9.6"
  }
 },
 "nbformat": 4,
 "nbformat_minor": 5
}
